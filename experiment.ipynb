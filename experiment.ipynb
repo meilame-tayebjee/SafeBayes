{
  "cells": [
    {
      "cell_type": "code",
      "execution_count": 1,
      "metadata": {
        "id": "ImTnEd4_MCcl"
      },
      "outputs": [],
      "source": [
        "import numpy as np\n",
        "import pandas as pd\n",
        "import matplotlib.pyplot as plt\n",
        "from tqdm import tqdm\n",
        "import time"
      ]
    },
    {
      "cell_type": "code",
      "execution_count": 2,
      "metadata": {},
      "outputs": [],
      "source": [
        "from SafeBayes import SafeBayesLinearRegression"
      ]
    },
    {
      "cell_type": "code",
      "execution_count": 4,
      "metadata": {
        "colab": {
          "base_uri": "https://localhost:8080/"
        },
        "id": "JWPx68YXPPlR",
        "outputId": "1ed9e38f-15e6-4c76-e34c-3b2c4d71d4eb"
      },
      "outputs": [
        {
          "name": "stdout",
          "output_type": "stream",
          "text": [
            "R2 :  0.3901311424592373\n"
          ]
        }
      ],
      "source": [
        "\n",
        "#Correct vs wrong model data generation\n",
        "\n",
        "def generate_correct_model(n , sigma_sq = 1/40, pmax = 50):\n",
        "    sigma = np.sqrt(sigma_sq)\n",
        "    X = np.random.randn(n, pmax)\n",
        "    X = np.hstack([np.ones((n, 1)), X]) # add intercept\n",
        "    eps = sigma * np.random.randn(n)\n",
        "\n",
        "    beta = np.hstack([ [0], np.ones(4)/10, np.zeros(pmax - 4)]) #as described in the paper: true beta is (0,0.1,...,0.1,0,...,0)\n",
        "\n",
        "    y = X@beta + eps\n",
        "\n",
        "    return X, y, beta\n",
        "\n",
        "\n",
        "def generate_wrong_model(n , sigma_sq = 1/20, pmax = 50):\n",
        "    coin_flip = (np.random.rand(n) > 0.5).astype(bool) #choose \"relevant\" indexes\n",
        "    sigma = np.sqrt(sigma_sq)\n",
        "\n",
        "\n",
        "    X = np.zeros((n, pmax))\n",
        "    X[coin_flip, :] = np.random.randn(n, pmax)[coin_flip, :] #only for the relevant indexes, we draw from N(0,1)\n",
        "\n",
        "    X = np.hstack([np.ones((n, 1)), X]) # add intercept\n",
        "\n",
        "    eps = sigma*np.random.randn(coin_flip.sum()) #only for the relevant indexes\n",
        "\n",
        "    beta = np.hstack([ [0], np.ones(4)/10 , np.zeros(pmax - 4)]) #as described in the paper: true beta is (0,0.1,...,0.1,0,...,0)\n",
        "\n",
        "    #draw y\n",
        "    y = np.zeros(n)\n",
        "    y[coin_flip] = X[coin_flip]@beta + eps #correct model for the relevant indexes, 0 otherwise\n",
        "\n",
        "    return X, y, beta\n",
        "\n",
        "\n",
        "X,y, beta = generate_wrong_model(1000, pmax = 50)\n",
        "R2 = 1 - (np.sum((y - X @ beta)**2) / np.sum((y - np.mean(y))**2))\n",
        "print(\"R2 : \", R2)"
      ]
    },
    {
      "cell_type": "markdown",
      "metadata": {
        "id": "Vp9WdtmyI9HQ"
      },
      "source": [
        "## Useful functions"
      ]
    },
    {
      "cell_type": "code",
      "execution_count": null,
      "metadata": {
        "colab": {
          "base_uri": "https://localhost:8080/"
        },
        "id": "2z8ZxyNoJAIm",
        "outputId": "6ef3ac5b-a794-4aac-a00c-256bc0874535"
      },
      "outputs": [
        {
          "name": "stdout",
          "output_type": "stream",
          "text": [
            "Shape X :  (10000, 51)  Shape y :  (10000,)\n",
            "Beta_n_eta :  [ 0.   0.1  0.1  0.1  0.1  0.  -0.  -0.   0.   0.  -0.   0.  -0.   0.\n",
            "  0.  -0.  -0.   0.  -0.   0.  -0.  -0.  -0.  -0.  -0.  -0.  -0.  -0.\n",
            "  0.   0.  -0.  -0.   0.   0.   0.   0.  -0.   0.  -0.   0.  -0.   0.\n",
            " -0.   0.  -0.  -0.  -0.  -0.   0.  -0.  -0. ]\n",
            "a_n_eta :  5001.0  b_n_eta :  123.0721466265179\n",
            "Inverse Posterior sigma square mean (target = 40):  40.62657666298207\n"
          ]
        }
      ],
      "source": [
        "from scipy.special import psi, softmax #Digamma function useful for RLogLoss\n",
        "from scipy.stats import invgamma\n",
        "\n",
        "#Functions to calculate the generalized posterior distributions\n",
        "#See sec 2.5 of the paper/ sec 3.1 of the longer paper\n",
        "\n",
        "#------------BETA----------------#\n",
        "#Covariance matrix of the multivariate normal **posterior** for beta\n",
        "# Remark : covariance matrix is in fact sigma_sq * Sigman_eta\n",
        "def Sigman_eta(Sigma, Xn, eta):\n",
        "  return np.linalg.inv(np.linalg.inv(Sigma) + eta * np.transpose(Xn) @ Xn)\n",
        "#Expectation of the multivariate normal **posterior** for beta\n",
        "def betan_eta(Sigma, Xn, eta, beta0, yn):\n",
        "  return Sigman_eta(Sigma, Xn, eta) @ (np.linalg.inv(Sigma) @ beta0 + eta * np.transpose(Xn) @ yn)\n",
        "\n",
        "\n",
        "#================================#\n",
        "\n",
        "#------------SIGMA_SQ----------------#\n",
        "#Parameters of the Inv-Gamma **posterior** for sigma_sq\n",
        "def an_eta(a0, eta, n):\n",
        "  return a0 + (eta * n)/2\n",
        "def bn_eta(b0, eta, beta, Sigma, Xn, yn):\n",
        "  betan = betan_eta(Sigma, Xn, eta, beta, yn)\n",
        "  # sigman = Sigman_eta(sigma, Xn, eta)\n",
        "  # return b0 + 1/2 * beta.T @ np.linalg.inv(sigma) @ beta + eta/2 * yn.T @ yn -1/2 * betan.T @ np.linalg.inv(sigman) @ betan\n",
        "  return b0 + (eta / 2) * np.sum(np.square(yn - (Xn @ betan)))\n",
        "#The induced expectation\n",
        "def sigman_eta2(a,b):\n",
        "  return b/(a-1)\n",
        "#================================#\n",
        "\n",
        "\n",
        "#=============TEST=============#\n",
        "\n",
        "#Correct model\n",
        "\n",
        "n = 10000\n",
        "eta = 1 #On teste avec la posterior classique\n",
        "pmax = 50\n",
        "p = pmax #we set the max model as discussed in sec 5.4\n",
        "X,y, beta_true = generate_correct_model(n, pmax = pmax)\n",
        "print(\"Shape X : \", X.shape, \" Shape y : \", y.shape)\n",
        "\n",
        "#----------PRIOR PARAMETERS-----------#\n",
        "#Sec 5 page 18\n",
        "a_0 = 1\n",
        "b_0 = 1/40\n",
        "#Sigma_0 = sigma_sq_prior_sample * np.eye(p + 1)\n",
        "Sigma_0 = np.eye(p + 1)\n",
        "beta_0 = np.zeros(p + 1)\n",
        "#-------------------------------------#\n",
        "\n",
        "beta_n_eta = betan_eta(Sigma_0, X, eta, beta_0, y)\n",
        "print(\"Beta_n_eta : \", np.round(beta_n_eta, 2))\n",
        "\n",
        "a_n_eta = an_eta(a_0, eta, n)\n",
        "b_n_eta = bn_eta(b_0, eta, beta_0, Sigma_0, X, y)\n",
        "print(\"a_n_eta : \", a_n_eta, \" b_n_eta : \", b_n_eta)\n",
        "\n",
        "post_sigma_sq_mean = sigman_eta2(a_n_eta, b_n_eta)\n",
        "print(\"Inverse Posterior sigma square mean (target = 40): \", 1/post_sigma_sq_mean)"
      ]
    },
    {
      "cell_type": "code",
      "execution_count": null,
      "metadata": {
        "id": "jXjvIKjpO6r1"
      },
      "outputs": [],
      "source": [
        "# Functions defined for varying sigma^2 section 4.2 (bigger paper)\n",
        "\n",
        "def RLogLoss(Xi, yi, eta, i, beta0, a0, b0, Sigma_0):\n",
        "  if i>=1:\n",
        "    a = an_eta(a0,eta,i)\n",
        "    b = bn_eta(b0, eta, beta0, Sigma_0, Xi[:-1], yi[:-1])\n",
        "    beta = betan_eta(Sigma_0, Xi[:-1], eta, beta0, yi[:-1])\n",
        "    Sigma = Sigman_eta(Sigma_0, Xi[:-1], eta)\n",
        "  else:\n",
        "    a = a0\n",
        "    b = b0\n",
        "    beta = beta0\n",
        "    Sigma = Sigma_0\n",
        "  return 1/2 * np.log(2 * np.pi * b) - 1/2* psi(a) + 1/2 * (yi[-1] - Xi[-1] @ beta)**2 / (b/a) + 1/2 * Xi[-1].T @ Sigma @ Xi[-1]\n",
        "\n",
        "\n",
        "def ILogLoss(Xi, yi, eta, i, beta0, a0, b0, Sigma_0):\n",
        "  if i>=1:\n",
        "    a = an_eta(a0,eta,i)\n",
        "    b = bn_eta(b0, eta, beta0, Sigma_0, Xi[:-1], yi[:-1])\n",
        "    beta = betan_eta(Sigma_0, Xi[:-1], eta, beta0, yi[:-1])\n",
        "    sigma2 = sigman_eta2(a,b)\n",
        "  else:\n",
        "    a = a0\n",
        "    b = b0\n",
        "    beta = beta0\n",
        "    sigma2 = sigman_eta2(a,b)\n",
        "  return 1/2 * np.log(2 * np.pi * sigma2) - psi(a) + 1/2 * (yi[-1] - Xi[-1] @ beta)**2 / (sigma2)\n",
        "\n"
      ]
    },
    {
      "cell_type": "code",
      "execution_count": null,
      "metadata": {
        "colab": {
          "base_uri": "https://localhost:8080/"
        },
        "id": "jMIFj8dzaDxh",
        "outputId": "0f6ac5c7-bdd4-4be9-c086-3f0458bc17b5"
      },
      "outputs": [
        {
          "name": "stdout",
          "output_type": "stream",
          "text": [
            "RLogLoss :  0.6171773899303261\n",
            "ILogLoss :  -2.6610027378444165\n"
          ]
        }
      ],
      "source": [
        "loss  = RLogLoss(X,y, 0.5, 50, beta_0, a_0, b_0, Sigma_0)\n",
        "print(\"RLogLoss : \", loss)\n",
        "\n",
        "loss  = ILogLoss(X,y, 1, 50, beta_0, a_0, b_0, Sigma_0)\n",
        "print(\"ILogLoss : \", loss)"
      ]
    },
    {
      "cell_type": "code",
      "execution_count": null,
      "metadata": {
        "id": "yRNuxUDhTnPs"
      },
      "outputs": [],
      "source": [
        "def SafeBayes(X, y, step_size=1, k_max=16, loss = RLogLoss, pmax=50, sigma2=1/40):\n",
        "  num = int(k_max/step_size)\n",
        "  etas = np.linspace(0,k_max,num)\n",
        "  S_etas = np.zeros(num)\n",
        "\n",
        "  # Constants to get the algorithm going\n",
        "  # Found section A.2 of the paper -> this is not the good experiment, look at section 5.4 (long article) where they say they use same constant as in 5.1\n",
        "  beta0 = np.zeros(pmax+1)\n",
        "  a0 = 1\n",
        "  b0 = sigma2 * a0\n",
        "  #Sigma_0 = 10e3 * np.eye(pmax+1)\n",
        "  Sigma_0 = np.eye(pmax+1)\n",
        "\n",
        "  for eta, k in zip(etas, range(num)):\n",
        "    for i in range(1,len(X)):\n",
        "      Xi = X[:(i+1)]\n",
        "      yi = y[:(i+1)]\n",
        "      S_etas[k] += loss(Xi, yi, 2**(-eta), i, beta0, a0, b0, Sigma_0)\n",
        "  eta = etas[np.argmin(S_etas)]\n",
        "  return 2**(-eta)\n"
      ]
    },
    {
      "cell_type": "code",
      "execution_count": null,
      "metadata": {
        "colab": {
          "base_uri": "https://localhost:8080/"
        },
        "id": "sSbIhggzclvc",
        "outputId": "067580c7-0cce-4289-818e-ba1c6c5c7630"
      },
      "outputs": [
        {
          "name": "stdout",
          "output_type": "stream",
          "text": [
            "eta_star :  1.0\n"
          ]
        }
      ],
      "source": [
        "eta_star = SafeBayes(X, y, step_size=1, k_max=16, loss = ILogLoss, pmax=50, sigma2=1/40)\n",
        "print(\"eta_star : \", eta_star)"
      ]
    },
    {
      "cell_type": "code",
      "execution_count": null,
      "metadata": {
        "colab": {
          "base_uri": "https://localhost:8080/"
        },
        "id": "oHHV_F8lcrfP",
        "outputId": "1574ea34-393b-4fd5-a43e-9321d021ec13"
      },
      "outputs": [
        {
          "name": "stdout",
          "output_type": "stream",
          "text": [
            "eta_star :  0.4774208019552083\n"
          ]
        }
      ],
      "source": [
        "eta_star = SafeBayes(X, y, step_size=1, k_max=16, loss = RLogLoss, pmax=50, sigma2=1/40)\n",
        "print(\"eta_star : \", eta_star)"
      ]
    },
    {
      "cell_type": "code",
      "execution_count": null,
      "metadata": {
        "id": "OaasAW-yAtg8"
      },
      "outputs": [],
      "source": [
        "def square_risk(beta,X_test,y_test):\n",
        "    return np.mean((y_test - X_test@beta)**2)"
      ]
    },
    {
      "cell_type": "code",
      "execution_count": null,
      "metadata": {
        "id": "B8WFsMgqD8py"
      },
      "outputs": [],
      "source": [
        "def experiment(X, y,X_test,y_test, step_size=1, k_max=16, pmax=50, sigma2=1/40):\n",
        "  num = int(k_max/step_size)\n",
        "  N = len(X)\n",
        "  etas = np.linspace(0,k_max,num)\n",
        "  S_R_Log_etas = np.zeros((N-1,num))\n",
        "  S_I_Log_etas = np.zeros((N-1,num))\n",
        "\n",
        "  # Constants to get the algorithm going\n",
        "  beta0 = np.zeros(pmax+1)\n",
        "  a0 = 1\n",
        "  b0 = sigma2 * a0\n",
        "  Sigma_0 = np.eye(pmax+1)\n",
        "\n",
        "  for eta, k in zip(etas, range(num)):\n",
        "    for i in range(1,len(X)):\n",
        "      Xi = X[:(i+1)]\n",
        "      yi = y[:(i+1)]\n",
        "      S_R_Log_etas[(i-1):,k] += RLogLoss(Xi, yi, 2**(-eta), i, beta0, a0, b0, Sigma_0)\n",
        "      S_I_Log_etas[(i-1):,k] += ILogLoss(Xi, yi, 2**(-eta), i, beta0, a0, b0, Sigma_0)\n",
        "\n",
        "\n",
        "  best_etas_R_Log = etas[np.argmin(S_R_Log_etas,axis=1)]\n",
        "  best_etas_I_Log = etas[np.argmin(S_I_Log_etas,axis=1)]\n",
        "  square_risks = np.empty((N-1, 3))\n",
        "  for k in range(N-1):\n",
        "    beta_bayes = betan_eta(Sigma_0, X[:k], 1, beta0, y[:k])\n",
        "    beta_R_Log_safe_bayes = betan_eta(Sigma_0, X[:k], 2**(-best_etas_R_Log[k]), beta0, y[:k])\n",
        "    beta_I_Log_safe_bayes = betan_eta(Sigma_0, X[:k], 2**(-best_etas_I_Log[k]), beta0, y[:k])\n",
        "    square_risks[k] = [square_risk(beta_bayes,X_test,y_test),square_risk(beta_R_Log_safe_bayes,X_test,y_test),square_risk(beta_I_Log_safe_bayes,X_test,y_test)]\n",
        "\n",
        "  return square_risks"
      ]
    },
    {
      "cell_type": "code",
      "execution_count": null,
      "metadata": {
        "colab": {
          "base_uri": "https://localhost:8080/"
        },
        "id": "uQcd5QaMJGQV",
        "outputId": "1defad78-caf5-44f4-89a3-25fb3eca95d4"
      },
      "outputs": [
        {
          "name": "stderr",
          "output_type": "stream",
          "text": [
            "100%|██████████| 10/10 [02:47<00:00, 16.74s/it]\n"
          ]
        }
      ],
      "source": [
        "X_test,y_test, _ = generate_wrong_model(10000, pmax = 50)\n",
        "number_run = 10\n",
        "all_risk = []\n",
        "for _ in tqdm(range(number_run)):\n",
        "    X,y, beta = generate_wrong_model(400, pmax = 50)\n",
        "    all_risk.append(experiment(X, y,X_test,y_test, step_size=1, k_max=16, pmax=50, sigma2=1/40))\n",
        "all_risk = np.stack(all_risk)\n",
        "average_over_run_square_risks = np.mean(all_risk,axis=2)\n",
        "number_of_samples_used = np.arange(2,len(X)+1)"
      ]
    },
    {
      "cell_type": "code",
      "execution_count": null,
      "metadata": {
        "colab": {
          "base_uri": "https://localhost:8080/",
          "height": 472
        },
        "id": "zEfmP8ftTYfn",
        "outputId": "21e2e644-7256-4643-9348-2d0873f4cdce"
      },
      "outputs": [
        {
          "data": {
            "image/png": "[encoded data removed]",
            "text/plain": [
              "<Figure size 640x480 with 1 Axes>"
            ]
          },
          "metadata": {},
          "output_type": "display_data"
        }
      ],
      "source": [
        "plt.figure()\n",
        "plt.plot(number_of_samples_used,all_risk[0],label = [\"Bayes\",\"R-Log-Safe-Bayes\",\"I-Log-Safe-Bayes\"])\n",
        "plt.xlabel(\"Number of samples\")\n",
        "plt.ylabel(\"Squared risk\")\n",
        "plt.legend()\n",
        "plt.title(f\"Squared risk averaged over {number_run} runs\")\n",
        "plt.title\n",
        "plt.show()"
      ]
    },
    {
      "cell_type": "markdown",
      "metadata": {
        "id": "JUmF3wHGmqEQ"
      },
      "source": [
        "## Wrapper"
      ]
    },
    {
      "cell_type": "code",
      "execution_count": 9,
      "metadata": {
        "id": "8CftKoPcvnbA"
      },
      "outputs": [],
      "source": [
        "#------------BETA----------------#\n",
        "#Covariance matrix of the multivariate normal **posterior** for beta\n",
        "# Remark : covariance matrix is in fact sigma_sq * Sigman_eta\n",
        "def Sigman_eta(Xn, Sigma,eta):\n",
        "  return np.linalg.inv(np.linalg.inv(Sigma) + eta * Xn.T @ Xn)\n",
        "\n",
        "#Expectation of the multivariate normal **posterior** for beta\n",
        "\n",
        "def betan_eta(Xn, yn, Sigma, eta, beta0):\n",
        "  return Sigman_eta(Xn, Sigma, eta) @ (np.linalg.inv(Sigma) @ beta0 + eta * Xn.T @ yn)\n",
        "\n",
        "#================================#\n",
        "\n",
        "#------------SIGMA_SQ----------------#\n",
        "#Parameters of the Inv-Gamma **posterior** for sigma_sq\n",
        "\n",
        "def an_eta(a0, eta, n):\n",
        "  return a0 + (eta * n)/2\n",
        "\n",
        "\n",
        "def bn_eta(Xn, yn, b0, eta, mean_beta_posterior):\n",
        "  return b0 + (eta / 2) * np.sum(np.square(yn - (Xn @ mean_beta_posterior)))"
      ]
    },
    {
      "cell_type": "code",
      "execution_count": 13,
      "metadata": {
        "id": "03ACRLEIxvt9"
      },
      "outputs": [],
      "source": [
        "# Functions defined for varying sigma^2 section 4.2 (bigger paper)\n",
        "\n",
        "def RLogLoss(Xi, yi, eta, i, beta0, a0, b0, Sigma_0):\n",
        "  if i>=1:\n",
        "\n",
        "    beta = betan_eta( Xi[:-1], yi[:-1], Sigma_0, eta, beta0)\n",
        "    Sigma = Sigman_eta(Xi[:-1], Sigma_0, eta)\n",
        "    a = an_eta(a0,eta,i)\n",
        "    b = bn_eta(Xi[:-1], yi[:-1], b0, eta, beta)\n",
        "  else:\n",
        "    a = a0\n",
        "    b = b0\n",
        "    beta = beta0\n",
        "    Sigma = Sigma_0\n",
        "  return 1/2 * np.log(2 * np.pi * b) - 1/2* psi(a) + 1/2 * (yi[-1] - Xi[-1] @ beta)**2 / (b/a) + 1/2 * Xi[-1].T @ Sigma @ Xi[-1]\n",
        "\n",
        "def ILogLoss(Xi, yi, eta, i, beta0, a0, b0, Sigma_0):\n",
        "  if i>=1:\n",
        "\n",
        "    beta = betan_eta( Xi[:-1], yi[:-1], Sigma_0, eta, beta0)\n",
        "    a = an_eta(a0,eta,i)\n",
        "    b = bn_eta(Xi[:-1], yi[:-1], b0, eta, beta)\n",
        "    sigma2 = sigman_eta2(a,b)\n",
        "  else:\n",
        "    a = a0\n",
        "    b = b0\n",
        "    beta = beta0\n",
        "    sigma2 = sigman_eta2(a,b)\n",
        "  return 1/2 * np.log(2 * np.pi * sigma2) - psi(a) + 1/2 * (yi[-1] - Xi[-1] @ beta)**2 / (sigma2)\n",
        "\n",
        "pmax = 50"
      ]
    },
    {
      "cell_type": "code",
      "execution_count": 14,
      "metadata": {
        "id": "mKcVFIe42ubq"
      },
      "outputs": [],
      "source": [
        "def SafeBayes(X, y, step_size=1, k_max=16, loss = RLogLoss, pmax=50, sigma2=1/40, beta0 = np.zeros(pmax+1), a0 = 1, b0 = 1/40, Sigma_0 = np.eye(pmax+1)):\n",
        "  num = int(k_max/step_size)\n",
        "  etas = np.linspace(0,k_max,num)\n",
        "  S_etas = np.zeros(num)\n",
        "\n",
        "  for eta, k in zip(etas, range(num)):\n",
        "    for i in range(1,len(X)):\n",
        "      Xi = X[:(i+1)]\n",
        "      yi = y[:(i+1)]\n",
        "      S_etas[k] += loss(Xi, yi, 2**(-eta), i, beta0, a0, b0, Sigma_0)\n",
        "  eta = etas[np.argmin(S_etas)]\n",
        "  return 2**(-eta)\n"
      ]
    },
    {
      "cell_type": "code",
      "execution_count": 16,
      "metadata": {
        "id": "wPnp8W9445yP"
      },
      "outputs": [],
      "source": [
        "p = pmax\n",
        "def GeneralizedPosteriors(X, y, eta, beta_0= np.zeros(pmax+1), Sigma_0= np.eye(p + 1), a0= 1, b0 = 1/40):\n",
        "\n",
        "  \"\"\" For a given eta, return the generalized posteriors parameters for beta and sigma_sq\n",
        "      Note that for eta = 1, this gives the \"classic\" posteriors\n",
        "\n",
        "      Params:\n",
        "      ----------\n",
        "      X,y : data (numpy.arrays, shape (n x p+1), (n,1)\n",
        "      eta : learning rate for generalized posterior\n",
        "\n",
        "      beta_0, Sigma_0 : prior parameters for the beta prior multivariate normal distribution\n",
        "        NOTE : actually, the distribution of beta depends on sigma_sq and the true variance is sigma_sq * Sigma_0\n",
        "\n",
        "      a0, b0 : prior parameters for the inverse gamma distribution of sigma_sq\n",
        "\n",
        "\n",
        "      Returns:\n",
        "      ----------\n",
        "      beta_params: tuple containing post. multi. normal mean and Sigma_n_eta (variance is once again sigma_sq * Sigma_n_eta)\n",
        "      sigma_sq_params : tuple containing  posterior inverse-gamma dist. mean and parameters for sigma_sq\n",
        "  \"\"\"\n",
        "\n",
        "  n= y.shape[0]\n",
        "\n",
        "  ####----Compute Beta posterior params-------##\n",
        "  Sigma_n_eta = Sigman_eta(X, Sigma_0, eta)\n",
        "  mean_beta_posterior = betan_eta(X, y, Sigma_0, eta, beta_0)\n",
        "\n",
        "  beta_params = (mean_beta_posterior, Sigma_n_eta)\n",
        "\n",
        "  ####----Compute sigma_sq posterior-----#\n",
        "  a_posterior = an_eta(a0, eta, n)\n",
        "  b_posterior = bn_eta(X, y, b0, eta, mean_beta_posterior)\n",
        "  mean_sigma_sq_posterior = b_posterior / (a_posterior - 1)\n",
        "\n",
        "  sigma_sq_params = (mean_sigma_sq_posterior, a_posterior, b_posterior)\n",
        "\n",
        "  return beta_params, sigma_sq_params\n"
      ]
    },
    {
      "cell_type": "code",
      "execution_count": 17,
      "metadata": {
        "id": "Yw_sK-XfmpQO"
      },
      "outputs": [],
      "source": [
        "def SafeBayesLR(X,y, loss = \"RLogLoss\", beta_0 = np.zeros(pmax+1), Sigma_0 = np.eye(p + 1), a0 = 1, b0 = 1/40,  step_size=1, k_max=16, pmax=50, sigma2=1/40,  verbose = False):\n",
        "\n",
        "  \"\"\" Wrapper for the full pipeline:\n",
        "    1. Run Safe Bayes for finding optimal eta\n",
        "    2. Return the Generalized posteriors for this optimal eta\n",
        "\n",
        "    Verbose (bool) for displaying\n",
        "  \"\"\"\n",
        "\n",
        "\n",
        "  n = y.shape[0]\n",
        "  loss = RLogLoss if loss == \"RLogLoss\" else ILogLoss\n",
        "  if verbose:\n",
        "    print(\"Running Safe Bayes to find optimal eta...\")\n",
        "\n",
        "  start = time.time()\n",
        "  eta = SafeBayes(X, y, step_size, k_max, loss, pmax, sigma2, beta_0, a0, b0, Sigma_0)\n",
        "  end = time.time()\n",
        "  if verbose:\n",
        "    print(\"Found eta* = {} in {} s\".format(round(eta, 2), round(end-start, 2)))\n",
        "\n",
        "\n",
        "\n",
        "  if verbose:\n",
        "    print(\"Computing generalized posteriors...\")\n",
        "\n",
        "  beta_params, sigma_sq_params = GeneralizedPosteriors(X, y, eta, beta_0, Sigma_0, a0, b0)\n",
        "\n",
        "  if verbose:\n",
        "    print(\"Done.\")\n",
        "\n",
        "  return beta_params, sigma_sq_params, eta\n",
        "\n",
        "\n"
      ]
    },
    {
      "cell_type": "code",
      "execution_count": 19,
      "metadata": {
        "colab": {
          "base_uri": "https://localhost:8080/"
        },
        "id": "k8YGy0PKy4ZX",
        "outputId": "e55ec2e0-762e-49cd-c646-fff5e3b6f1dc"
      },
      "outputs": [
        {
          "name": "stdout",
          "output_type": "stream",
          "text": [
            "Running Safe Bayes to find optimal eta...\n",
            "Found eta* = 0.23 in 10.13 s\n",
            "Computing generalized posteriors...\n",
            "Done.\n"
          ]
        }
      ],
      "source": [
        "from scipy.special import psi, softmax #Digamma function useful for RLogLoss\n",
        "X,y, beta = generate_correct_model(500, pmax = 50)\n",
        "beta_params, sigma_sq_params, eta = SafeBayesLR(X, y, verbose = True)"
      ]
    },
    {
      "cell_type": "code",
      "execution_count": 6,
      "metadata": {},
      "outputs": [
        {
          "name": "stdout",
          "output_type": "stream",
          "text": [
            "Running Safe Bayes to find optimal eta...\n",
            "Found eta* = 0.23 in 16.45 s\n",
            "Computing generalized posteriors...\n",
            "Done.\n"
          ]
        }
      ],
      "source": [
        "X,y, beta = generate_correct_model(500, pmax = 50)\n",
        "SafeBayesLR = SafeBayesLinearRegression()\n",
        "beta_params, sigma_sq_params, eta = SafeBayesLR.fit(X, y, verbose=True)"
      ]
    },
    {
      "cell_type": "code",
      "execution_count": 7,
      "metadata": {},
      "outputs": [
        {
          "data": {
            "text/plain": [
              "46.047601890702566"
            ]
          },
          "execution_count": 7,
          "metadata": {},
          "output_type": "execute_result"
        }
      ],
      "source": [
        "1/sigma_sq_params[0]"
      ]
    }
  ],
  "metadata": {
    "colab": {
      "provenance": []
    },
    "kernelspec": {
      "display_name": "Python 3",
      "name": "python3"
    },
    "language_info": {
      "codemirror_mode": {
        "name": "ipython",
        "version": 3
      },
      "file_extension": ".py",
      "mimetype": "text/x-python",
      "name": "python",
      "nbconvert_exporter": "python",
      "pygments_lexer": "ipython3",
      "version": "3.9.6"
    }
  },
  "nbformat": 4,
  "nbformat_minor": 0
}
